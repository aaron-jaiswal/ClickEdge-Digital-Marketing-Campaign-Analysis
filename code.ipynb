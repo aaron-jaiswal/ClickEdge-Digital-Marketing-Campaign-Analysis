{
 "cells": [
  {
   "cell_type": "code",
   "execution_count": null,
   "metadata": {
    "vscode": {
     "languageId": "plaintext"
    }
   },
   "outputs": [],
   "source": [
    "import pandas as pd\n",
    "\n",
    "# Load the uploaded datasets\n",
    "geo_lookup_df = pd.read_csv('/mnt/data/geo_lookup_v2.csv')\n",
    "orders_df = pd.read_csv('/mnt/data/orders_v2.csv')\n",
    "order_status_df = pd.read_csv('/mnt/data/order_status_v2.csv')\n",
    "customers_df = pd.read_csv('/mnt/data/customers_v2.csv')"
   ]
  },
  {
   "cell_type": "code",
   "execution_count": null,
   "metadata": {
    "vscode": {
     "languageId": "plaintext"
    }
   },
   "outputs": [],
   "source": [
    "# Merge customers with orders on `customer_id` to enrich orders with customer data\n",
    "orders_with_customers = orders_df.merge(customers_df, left_on='customer_id', right_on='id', how='left')\n",
    "\n",
    "# Merge with order_status on `id` and `order_id` to include order status details\n",
    "orders_with_status = orders_with_customers.merge(order_status_df, left_on='id_x', right_on='order_id', how='left')\n",
    "\n",
    "# Merge with geo_lookup on `country_code` and `country` to append regional data\n",
    "final_merged_df = orders_with_status.merge(geo_lookup_df, left_on='country_code', right_on='country', how='left')\n",
    "\n",
    "# Inspect the merged dataframe structure\n",
    "final_merged_df.head()"
   ]
  },
  {
   "cell_type": "code",
   "execution_count": null,
   "metadata": {
    "vscode": {
     "languageId": "plaintext"
    }
   },
   "outputs": [],
   "source": [
    "import ace_tools as tools  # Re-importing to fix the issue\n",
    "\n",
    "# Display the pivot table to the user again\n",
    "tools.display_dataframe_to_user(name=\"Sales Performance Pivot Table\", dataframe=pivot_data)"
   ]
  },
  {
   "cell_type": "code",
   "execution_count": null,
   "metadata": {
    "vscode": {
     "languageId": "plaintext"
    }
   },
   "outputs": [],
   "source": [
    "import matplotlib.pyplot as plt\n",
    "import seaborn as sns\n",
    "\n",
    "# Create a new column for monthly analysis\n",
    "final_merged_df['month'] = pd.to_datetime(final_merged_df['purchase_ts_x']).dt.month\n",
    "\n",
    "# Monthly aggregation\n",
    "monthly_data = final_merged_df.groupby(['year', 'month']).agg(\n",
    "    sales=('usd_price', 'sum'),\n",
    "    order_count=('id_x', 'count'),\n",
    "    AOV=('usd_price', 'mean')\n",
    ").reset_index()\n",
    "\n",
    "# Calculate growth rates for monthly data\n",
    "monthly_data['sales_growth_%'] = monthly_data.groupby('year')['sales'].pct_change() * 100\n",
    "monthly_data['AOV_growth_%'] = monthly_data.groupby('year')['AOV'].pct_change() * 100\n",
    "monthly_data['order_count_growth_%'] = monthly_data.groupby('year')['order_count'].pct_change() * 100\n",
    "\n",
    "# Set up the plotting area\n",
    "fig, axs = plt.subplots(3, 2, figsize=(16, 12))\n",
    "\n",
    "# Line plots for monthly metrics by year\n",
    "sns.lineplot(data=monthly_data, x='month', y='sales', hue='year', ax=axs[0, 0])\n",
    "axs[0, 0].set_title(\"Total Sales by Month\")\n",
    "axs[0, 0].set_ylabel(\"Total Sales (USD)\")\n",
    "axs[0, 0].legend(title=\"Year\")\n",
    "\n",
    "sns.lineplot(data=monthly_data, x='month', y='AOV', hue='year', ax=axs[0, 1])\n",
    "axs[0, 1].set_title(\"Average Order Value (AOV) by Month\")\n",
    "axs[0, 1].set_ylabel(\"Average Order Value (USD)\")\n",
    "axs[0, 1].legend(title=\"Year\")\n",
    "\n",
    "sns.lineplot(data=monthly_data, x='month', y='order_count', hue='year', ax=axs[1, 0])\n",
    "axs[1, 0].set_title(\"Total Orders by Month\")\n",
    "axs[1, 0].set_ylabel(\"Total Orders\")\n",
    "axs[1, 0].legend(title=\"Year\")\n",
    "\n",
    "# Pivot data for heatmaps\n",
    "sales_growth_pivot = monthly_data.pivot(\"year\", \"month\", \"sales_growth_%\")\n",
    "AOV_growth_pivot = monthly_data.pivot(\"year\", \"month\", \"AOV_growth_%\")\n",
    "order_growth_pivot = monthly_data.pivot(\"year\", \"month\", \"order_count_growth_%\")\n",
    "\n",
    "# Heatmaps for growth rates\n",
    "sns.heatmap(sales_growth_pivot, ax=axs[1, 1], annot=True, fmt=\".1f\", cmap=\"Blues\", cbar=False)\n",
    "axs[1, 1].set_title(\"Sales Growth Rate (%)\")\n",
    "axs[1, 1].set_xlabel(\"Month\")\n",
    "axs[1, 1].set_ylabel(\"Year\")\n",
    "\n",
    "sns.heatmap(AOV_growth_pivot, ax=axs[2, 0], annot=True, fmt=\".1f\", cmap=\"Blues\", cbar=False)\n",
    "axs[2, 0].set_title(\"AOV Growth Rate (%)\")\n",
    "axs[2, 0].set_xlabel(\"Month\")\n",
    "axs[2, 0].set_ylabel(\"Year\")\n",
    "\n",
    "sns.heatmap(order_growth_pivot, ax=axs[2, 1], annot=True, fmt=\".1f\", cmap=\"Blues\", cbar=False)\n",
    "axs[2, 1].set_title(\"Order Growth Rate (%)\")\n",
    "axs[2, 1].set_xlabel(\"Month\")\n",
    "axs[2, 1].set_ylabel(\"Year\")\n",
    "\n",
    "# Adjust layout for better spacing\n",
    "plt.tight_layout()\n",
    "plt.show()"
   ]
  },
  {
   "cell_type": "code",
   "execution_count": null,
   "metadata": {
    "vscode": {
     "languageId": "plaintext"
    }
   },
   "outputs": [],
   "source": [
    "# Set up the plotting area with 3 columns and 2 rows\n",
    "fig, axs = plt.subplots(2, 3, figsize=(18, 10))\n",
    "\n",
    "# Line plots for monthly metrics by year\n",
    "sns.lineplot(data=monthly_data, x='month', y='sales', hue='year', ax=axs[0, 0])\n",
    "axs[0, 0].set_title(\"Total Sales by Month\")\n",
    "axs[0, 0].set_ylabel(\"Total Sales (USD)\")\n",
    "axs[0, 0].set_xlabel(\"Month\")\n",
    "axs[0, 0].legend(title=\"Year\")\n",
    "\n",
    "sns.lineplot(data=monthly_data, x='month', y='AOV', hue='year', ax=axs[0, 1])\n",
    "axs[0, 1].set_title(\"Average Order Value (AOV) by Month\")\n",
    "axs[0, 1].set_ylabel(\"Average Order Value (USD)\")\n",
    "axs[0, 1].set_xlabel(\"Month\")\n",
    "axs[0, 1].legend(title=\"Year\")\n",
    "\n",
    "sns.lineplot(data=monthly_data, x='month', y='order_count', hue='year', ax=axs[0, 2])\n",
    "axs[0, 2].set_title(\"Total Orders by Month\")\n",
    "axs[0, 2].set_ylabel(\"Total Orders\")\n",
    "axs[0, 2].set_xlabel(\"Month\")\n",
    "axs[0, 2].legend(title=\"Year\")\n",
    "\n",
    "# Heatmaps for growth rates\n",
    "sns.heatmap(sales_growth_pivot, ax=axs[1, 0], annot=True, fmt=\".1f\", cmap=\"Blues\", cbar=False)\n",
    "axs[1, 0].set_title(\"Sales Growth Rate (%)\")\n",
    "axs[1, 0].set_xlabel(\"Month\")\n",
    "axs[1, 0].set_ylabel(\"Year\")\n",
    "\n",
    "sns.heatmap(AOV_growth_pivot, ax=axs[1, 1], annot=True, fmt=\".1f\", cmap=\"Blues\", cbar=False)\n",
    "axs[1, 1].set_title(\"AOV Growth Rate (%)\")\n",
    "axs[1, 1].set_xlabel(\"Month\")\n",
    "axs[1, 1].set_ylabel(\"Year\")\n",
    "\n",
    "sns.heatmap(order_growth_pivot, ax=axs[1, 2], annot=True, fmt=\".1f\", cmap=\"Blues\", cbar=False)\n",
    "axs[1, 2].set_title(\"Order Growth Rate (%)\")\n",
    "axs[1, 2].set_xlabel(\"Month\")\n",
    "axs[1, 2].set_ylabel(\"Year\")\n",
    "\n",
    "# Adjust layout for better spacing\n",
    "plt.tight_layout()\n",
    "plt.show()"
   ]
  },
  {
   "cell_type": "code",
   "execution_count": null,
   "metadata": {
    "vscode": {
     "languageId": "plaintext"
    }
   },
   "outputs": [],
   "source": [
    "#Product performance metrics\n",
    "\n",
    "# Calculate product-level metrics\n",
    "product_metrics = final_merged_df.groupby('product_name').agg(\n",
    "    total_revenue=('usd_price', 'sum'),\n",
    "    order_count=('id_x', 'count'),\n",
    "    AOV=('usd_price', 'mean'),\n",
    "    refund_rate=('refund_ts', lambda x: x.notnull().sum() / len(x) * 100)\n",
    ").reset_index()\n",
    "\n",
    "# Add percentage columns\n",
    "product_metrics['total_revenue_%'] = product_metrics['total_revenue'] / product_metrics['total_revenue'].sum() * 100\n",
    "product_metrics['order_count_%'] = product_metrics['order_count'] / product_metrics['order_count'].sum() * 100\n",
    "\n",
    "# Add a grand total row\n",
    "grand_total = {\n",
    "    'product_name': 'Grand Total',\n",
    "    'total_revenue': product_metrics['total_revenue'].sum(),\n",
    "    'order_count': product_metrics['order_count'].sum(),\n",
    "    'AOV': product_metrics['total_revenue'].sum() / product_metrics['order_count'].sum(),\n",
    "    'refund_rate': (final_merged_df['refund_ts'].notnull().sum() / len(final_merged_df)) * 100,\n",
    "    'total_revenue_%': 100,\n",
    "    'order_count_%': 100\n",
    "}\n",
    "\n",
    "product_metrics = pd.concat([product_metrics, pd.DataFrame([grand_total])], ignore_index=True)\n",
    "\n",
    "# Format table for display\n",
    "product_metrics['total_revenue'] = product_metrics['total_revenue'].apply(lambda x: f\"${x:,.0f}\")\n",
    "product_metrics['total_revenue_%'] = product_metrics['total_revenue_%'].apply(lambda x: f\"{x:.0f}%\")\n",
    "product_metrics['AOV'] = product_metrics['AOV'].apply(lambda x: f\"${x:,.0f}\")\n",
    "product_metrics['order_count'] = product_metrics['order_count'].apply(lambda x: f\"{x:,}\")\n",
    "product_metrics['order_count_%'] = product_metrics['order_count_%'].apply(lambda x: f\"{x:.0f}%\")\n",
    "product_metrics['refund_rate'] = product_metrics['refund_rate'].apply(lambda x: f\"{x:.0f}%\")\n",
    "\n",
    "# Display the formatted table to the user\n",
    "import ace_tools as tools; tools.display_dataframe_to_user(name=\"Product Performance Metrics\", dataframe=product_metrics)"
   ]
  },
  {
   "cell_type": "code",
   "execution_count": null,
   "metadata": {
    "vscode": {
     "languageId": "plaintext"
    }
   },
   "outputs": [],
   "source": [
    "# Yearly customer metrics\n",
    "final_merged_df['purchase_year'] = pd.to_datetime(final_merged_df['purchase_ts_x']).dt.year\n",
    "\n",
    "customer_metrics = final_merged_df.groupby('purchase_year').agg(\n",
    "    unique_customers=('customer_id', 'nunique'),\n",
    "    repeat_customers=('customer_id', lambda x: x[x.duplicated()].nunique())\n",
    ").reset_index()\n",
    "\n",
    "# Calculate repeat rate\n",
    "customer_metrics['repeat_rate'] = (customer_metrics['repeat_customers'] / customer_metrics['unique_customers']) * 100\n",
    "\n",
    "# Format table for display\n",
    "tools.display_dataframe_to_user(name=\"Yearly Customer Metrics\", dataframe=customer_metrics)\n",
    "\n",
    "# Provide insights\n",
    "customer_metrics"
   ]
  },
  {
   "cell_type": "code",
   "execution_count": null,
   "metadata": {
    "vscode": {
     "languageId": "plaintext"
    }
   },
   "outputs": [],
   "source": [
    "# Loyalty vs non-loyalty program\n",
    "loyalty_metrics = final_merged_df.groupby(['purchase_year', 'loyalty_program']).agg(\n",
    "    sales=('usd_price', 'sum'),\n",
    "    order_count=('id_x', 'count'),\n",
    "    AOV=('usd_price', 'mean')\n",
    ").reset_index()\n",
    "\n",
    "# Add sales growth, AOV growth, and order count growth\n",
    "loyalty_metrics['sales_growth_%'] = loyalty_metrics.groupby('loyalty_program')['sales'].pct_change() * 100\n",
    "loyalty_metrics['AOV_growth_%'] = loyalty_metrics.groupby('loyalty_program')['AOV'].pct_change() * 100\n",
    "loyalty_metrics['order_growth_%'] = loyalty_metrics.groupby('loyalty_program')['order_count'].pct_change() * 100\n",
    "\n",
    "# Pivot for table display\n",
    "pivot_loyalty = loyalty_metrics.pivot(index='purchase_year', columns='loyalty_program', \n",
    "                                      values=['sales', 'sales_growth_%', 'AOV', 'AOV_growth_%', 'order_count', 'order_growth_%'])\n",
    "\n",
    "# Add grand totals for each metric\n",
    "grand_totals = {\n",
    "    ('sales', 0): loyalty_metrics[loyalty_metrics['loyalty_program'] == 0]['sales'].sum(),\n",
    "    ('sales', 1): loyalty_metrics[loyalty_metrics['loyalty_program'] == 1]['sales'].sum(),\n",
    "    ('order_count', 0): loyalty_metrics[loyalty_metrics['loyalty_program'] == 0]['order_count'].sum(),\n",
    "    ('order_count', 1): loyalty_metrics[loyalty_metrics['loyalty_program'] == 1]['order_count'].sum(),\n",
    "    ('AOV', 0): loyalty_metrics[loyalty_metrics['loyalty_program'] == 0]['sales'].sum() / loyalty_metrics[loyalty_metrics['loyalty_program'] == 0]['order_count'].sum(),\n",
    "    ('AOV', 1): loyalty_metrics[loyalty_metrics['loyalty_program'] == 1]['sales'].sum() / loyalty_metrics[loyalty_metrics['loyalty_program'] == 1]['order_count'].sum()\n",
    "}\n",
    "\n",
    "pivot_loyalty.loc['Grand Total'] = grand_totals\n",
    "\n",
    "# Reset index for display purposes\n",
    "pivot_loyalty = pivot_loyalty.reset_index()\n",
    "\n",
    "# Format for presentation\n",
    "tools.display_dataframe_to_user(name=\"Loyalty Program Performance\", dataframe=pivot_loyalty)\n",
    "\n",
    "# Visualization\n",
    "import matplotlib.pyplot as plt\n",
    "import seaborn as sns\n",
    "\n",
    "# Create monthly data for plots\n",
    "final_merged_df['month_year'] = final_merged_df['purchase_ts_x'].apply(lambda x: pd.to_datetime(x).strftime('%Y-%m'))\n",
    "monthly_loyalty = final_merged_df.groupby(['month_year', 'loyalty_program']).agg(\n",
    "    sales=('usd_price', 'sum'),\n",
    "    order_count=('id_x', 'count'),\n",
    "    AOV=('usd_price', 'mean')\n",
    ").reset_index()\n",
    "\n",
    "# Plot metrics\n",
    "fig, axs = plt.subplots(1, 3, figsize=(18, 6))\n",
    "\n",
    "sns.lineplot(data=monthly_loyalty, x='month_year', y='sales', hue='loyalty_program', ax=axs[0])\n",
    "axs[0].set_title(\"Total Revenue by Month\")\n",
    "axs[0].set_ylabel(\"Total Revenue (USD)\")\n",
    "axs[0].set_xlabel(\"Month-Year\")\n",
    "axs[0].tick_params(axis='x', rotation=45)\n",
    "\n",
    "sns.lineplot(data=monthly_loyalty, x='month_year', y='order_count', hue='loyalty_program', ax=axs[1])\n",
    "axs[1].set_title(\"Total Orders by Month\")\n",
    "axs[1].set_ylabel(\"Total Orders\")\n",
    "axs[1].set_xlabel(\"Month-Year\")\n",
    "axs[1].tick_params(axis='x', rotation=45)\n",
    "\n",
    "sns.lineplot(data=monthly_loyalty, x='month_year', y='AOV', hue='loyalty_program', ax=axs[2])\n",
    "axs[2].set_title(\"Average Order Value (AOV) by Month\")\n",
    "axs[2].set_ylabel(\"AOV (USD)\")\n",
    "axs[2].set_xlabel(\"Month-Year\")\n",
    "axs[2].tick_params(axis='x', rotation=45)\n",
    "\n",
    "# Adjust layout and show plots\n",
    "plt.tight_layout()\n",
    "plt.show()"
   ]
  }
 ],
 "metadata": {
  "language_info": {
   "name": "python"
  }
 },
 "nbformat": 4,
 "nbformat_minor": 2
}
